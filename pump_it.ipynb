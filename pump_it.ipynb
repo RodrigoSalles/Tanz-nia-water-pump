{
  "nbformat": 4,
  "nbformat_minor": 0,
  "metadata": {
    "colab": {
      "name": "pump_it.ipynb",
      "version": "0.3.2",
      "views": {},
      "default_view": {},
      "provenance": []
    },
    "kernelspec": {
      "name": "python3",
      "display_name": "Python 3"
    },
    "accelerator": "GPU"
  },
  "cells": [
    {
      "metadata": {
        "id": "EN8YHXshlx92",
        "colab_type": "text"
      },
      "cell_type": "markdown",
      "source": [
        "**Data Science aplicado à manutenção preditiva: bombas d’água na Tanzânia**"
      ]
    },
    {
      "metadata": {
        "id": "UBlfUK-g0EFJ",
        "colab_type": "code",
        "colab": {
          "autoexec": {
            "startup": false,
            "wait_interval": 0
          }
        }
      },
      "cell_type": "code",
      "source": [
        "# Instalando o Drive FUSE wrapper.\n",
        "# https://github.com/astrada/google-drive-ocamlfuse\n",
        "\n",
        "# !apt-get install -y -qq software-properties-common python-software-properties module-init-tools\n",
        "# !add-apt-repository -y ppa:alessandro-strada/ppa 2>&1 > /dev/null\n",
        "# !apt-get update -qq 2>&1 > /dev/null\n",
        "# !apt-get -y install -qq google-drive-ocamlfuse fuse"
      ],
      "execution_count": 0,
      "outputs": []
    },
    {
      "metadata": {
        "id": "onsF1p8Z02zm",
        "colab_type": "code",
        "colab": {
          "autoexec": {
            "startup": false,
            "wait_interval": 0
          }
        }
      },
      "cell_type": "code",
      "source": [
        "# Generate auth tokens for Colab\n",
        "\n",
        "# from google.colab import auth\n",
        "# auth.authenticate_user()"
      ],
      "execution_count": 0,
      "outputs": []
    },
    {
      "metadata": {
        "id": "mAhXV70U039s",
        "colab_type": "code",
        "colab": {
          "autoexec": {
            "startup": false,
            "wait_interval": 0
          }
        }
      },
      "cell_type": "code",
      "source": [
        "# Generate creds for the Drive FUSE library.\n",
        "\n",
        "# from oauth2client.client import GoogleCredentials\n",
        "# creds = GoogleCredentials.get_application_default()\n",
        "# import getpass\n",
        "# !google-drive-ocamlfuse -headless -id={creds.client_id} -secret={creds.client_secret} < /dev/null 2>&1 | grep URL\n",
        "# vcode = getpass.getpass()\n",
        "# !echo {vcode} | google-drive-ocamlfuse -headless -id={creds.client_id} -secret={creds.client_secret}"
      ],
      "execution_count": 0,
      "outputs": []
    },
    {
      "metadata": {
        "id": "eP783XWX07u1",
        "colab_type": "code",
        "colab": {
          "autoexec": {
            "startup": false,
            "wait_interval": 0
          }
        }
      },
      "cell_type": "code",
      "source": [
        "# Create a directory and mount Google Drive using that directory.\n",
        "\n",
        "# !mkdir -p drive\n",
        "# !google-drive-ocamlfuse drive"
      ],
      "execution_count": 0,
      "outputs": []
    },
    {
      "metadata": {
        "id": "BpQ8JMuA3BUq",
        "colab_type": "code",
        "colab": {
          "autoexec": {
            "startup": false,
            "wait_interval": 0
          },
          "base_uri": "https://localhost:8080/",
          "height": 85
        },
        "outputId": "3a5aba46-112b-4925-9a2d-fcfebb004c31",
        "executionInfo": {
          "status": "ok",
          "timestamp": 1524827734356,
          "user_tz": -60,
          "elapsed": 1590,
          "user": {
            "displayName": "Rodrigo Salles",
            "photoUrl": "https://lh3.googleusercontent.com/a/default-user=s128",
            "userId": "105913793239312369239"
          }
        }
      },
      "cell_type": "code",
      "source": [
        "print (\"Files in my drive:\")\n",
        "!ls drive/"
      ],
      "execution_count": 9,
      "outputs": [
        {
          "output_type": "stream",
          "text": [
            "Files in my drive:\n",
            "Colab Notebooks    Europass  submissions_27_02.csv\n",
            "Digit_recognition  Fotos     tut_kaggle\n",
            "Engenharia\t   pump_it   Tutorial_Kaggle.ipynb\n"
          ],
          "name": "stdout"
        }
      ]
    },
    {
      "metadata": {
        "id": "qsyCGTGx_RKJ",
        "colab_type": "code",
        "colab": {
          "autoexec": {
            "startup": false,
            "wait_interval": 0
          }
        }
      },
      "cell_type": "code",
      "source": [
        "import numpy as np\n",
        "import pandas as pd\n",
        "import matplotlib.pyplot as plt\n",
        "import seaborn as sns\n"
      ],
      "execution_count": 0,
      "outputs": []
    },
    {
      "metadata": {
        "id": "t7z1uacg4c-M",
        "colab_type": "code",
        "colab": {
          "autoexec": {
            "startup": false,
            "wait_interval": 0
          }
        }
      },
      "cell_type": "code",
      "source": [
        "data = pd.read_csv('drive/pump_it/train.csv')\n",
        "target = pd.read_csv('drive/pump_it/train_label.csv')"
      ],
      "execution_count": 0,
      "outputs": []
    },
    {
      "metadata": {
        "id": "prjlOWVP4dF-",
        "colab_type": "code",
        "colab": {
          "autoexec": {
            "startup": false,
            "wait_interval": 0
          },
          "base_uri": "https://localhost:8080/",
          "height": 355
        },
        "outputId": "52bc1390-1df0-426f-80e0-0c62aca5731d",
        "executionInfo": {
          "status": "ok",
          "timestamp": 1524827738311,
          "user_tz": -60,
          "elapsed": 619,
          "user": {
            "displayName": "Rodrigo Salles",
            "photoUrl": "https://lh3.googleusercontent.com/a/default-user=s128",
            "userId": "105913793239312369239"
          }
        }
      },
      "cell_type": "code",
      "source": [
        "data.head()"
      ],
      "execution_count": 12,
      "outputs": [
        {
          "output_type": "execute_result",
          "data": {
            "text/html": [
              "<div>\n",
              "<style scoped>\n",
              "    .dataframe tbody tr th:only-of-type {\n",
              "        vertical-align: middle;\n",
              "    }\n",
              "\n",
              "    .dataframe tbody tr th {\n",
              "        vertical-align: top;\n",
              "    }\n",
              "\n",
              "    .dataframe thead th {\n",
              "        text-align: right;\n",
              "    }\n",
              "</style>\n",
              "<table border=\"1\" class=\"dataframe\">\n",
              "  <thead>\n",
              "    <tr style=\"text-align: right;\">\n",
              "      <th></th>\n",
              "      <th>id</th>\n",
              "      <th>amount_tsh</th>\n",
              "      <th>date_recorded</th>\n",
              "      <th>funder</th>\n",
              "      <th>gps_height</th>\n",
              "      <th>installer</th>\n",
              "      <th>longitude</th>\n",
              "      <th>latitude</th>\n",
              "      <th>wpt_name</th>\n",
              "      <th>num_private</th>\n",
              "      <th>...</th>\n",
              "      <th>payment_type</th>\n",
              "      <th>water_quality</th>\n",
              "      <th>quality_group</th>\n",
              "      <th>quantity</th>\n",
              "      <th>quantity_group</th>\n",
              "      <th>source</th>\n",
              "      <th>source_type</th>\n",
              "      <th>source_class</th>\n",
              "      <th>waterpoint_type</th>\n",
              "      <th>waterpoint_type_group</th>\n",
              "    </tr>\n",
              "  </thead>\n",
              "  <tbody>\n",
              "    <tr>\n",
              "      <th>0</th>\n",
              "      <td>69572</td>\n",
              "      <td>6000.0</td>\n",
              "      <td>2011-03-14</td>\n",
              "      <td>Roman</td>\n",
              "      <td>1390</td>\n",
              "      <td>Roman</td>\n",
              "      <td>34.938093</td>\n",
              "      <td>-9.856322</td>\n",
              "      <td>none</td>\n",
              "      <td>0</td>\n",
              "      <td>...</td>\n",
              "      <td>annually</td>\n",
              "      <td>soft</td>\n",
              "      <td>good</td>\n",
              "      <td>enough</td>\n",
              "      <td>enough</td>\n",
              "      <td>spring</td>\n",
              "      <td>spring</td>\n",
              "      <td>groundwater</td>\n",
              "      <td>communal standpipe</td>\n",
              "      <td>communal standpipe</td>\n",
              "    </tr>\n",
              "    <tr>\n",
              "      <th>1</th>\n",
              "      <td>8776</td>\n",
              "      <td>0.0</td>\n",
              "      <td>2013-03-06</td>\n",
              "      <td>Grumeti</td>\n",
              "      <td>1399</td>\n",
              "      <td>GRUMETI</td>\n",
              "      <td>34.698766</td>\n",
              "      <td>-2.147466</td>\n",
              "      <td>Zahanati</td>\n",
              "      <td>0</td>\n",
              "      <td>...</td>\n",
              "      <td>never pay</td>\n",
              "      <td>soft</td>\n",
              "      <td>good</td>\n",
              "      <td>insufficient</td>\n",
              "      <td>insufficient</td>\n",
              "      <td>rainwater harvesting</td>\n",
              "      <td>rainwater harvesting</td>\n",
              "      <td>surface</td>\n",
              "      <td>communal standpipe</td>\n",
              "      <td>communal standpipe</td>\n",
              "    </tr>\n",
              "    <tr>\n",
              "      <th>2</th>\n",
              "      <td>34310</td>\n",
              "      <td>25.0</td>\n",
              "      <td>2013-02-25</td>\n",
              "      <td>Lottery Club</td>\n",
              "      <td>686</td>\n",
              "      <td>World vision</td>\n",
              "      <td>37.460664</td>\n",
              "      <td>-3.821329</td>\n",
              "      <td>Kwa Mahundi</td>\n",
              "      <td>0</td>\n",
              "      <td>...</td>\n",
              "      <td>per bucket</td>\n",
              "      <td>soft</td>\n",
              "      <td>good</td>\n",
              "      <td>enough</td>\n",
              "      <td>enough</td>\n",
              "      <td>dam</td>\n",
              "      <td>dam</td>\n",
              "      <td>surface</td>\n",
              "      <td>communal standpipe multiple</td>\n",
              "      <td>communal standpipe</td>\n",
              "    </tr>\n",
              "    <tr>\n",
              "      <th>3</th>\n",
              "      <td>67743</td>\n",
              "      <td>0.0</td>\n",
              "      <td>2013-01-28</td>\n",
              "      <td>Unicef</td>\n",
              "      <td>263</td>\n",
              "      <td>UNICEF</td>\n",
              "      <td>38.486161</td>\n",
              "      <td>-11.155298</td>\n",
              "      <td>Zahanati Ya Nanyumbu</td>\n",
              "      <td>0</td>\n",
              "      <td>...</td>\n",
              "      <td>never pay</td>\n",
              "      <td>soft</td>\n",
              "      <td>good</td>\n",
              "      <td>dry</td>\n",
              "      <td>dry</td>\n",
              "      <td>machine dbh</td>\n",
              "      <td>borehole</td>\n",
              "      <td>groundwater</td>\n",
              "      <td>communal standpipe multiple</td>\n",
              "      <td>communal standpipe</td>\n",
              "    </tr>\n",
              "    <tr>\n",
              "      <th>4</th>\n",
              "      <td>19728</td>\n",
              "      <td>0.0</td>\n",
              "      <td>2011-07-13</td>\n",
              "      <td>Action In A</td>\n",
              "      <td>0</td>\n",
              "      <td>Artisan</td>\n",
              "      <td>31.130847</td>\n",
              "      <td>-1.825359</td>\n",
              "      <td>Shuleni</td>\n",
              "      <td>0</td>\n",
              "      <td>...</td>\n",
              "      <td>never pay</td>\n",
              "      <td>soft</td>\n",
              "      <td>good</td>\n",
              "      <td>seasonal</td>\n",
              "      <td>seasonal</td>\n",
              "      <td>rainwater harvesting</td>\n",
              "      <td>rainwater harvesting</td>\n",
              "      <td>surface</td>\n",
              "      <td>communal standpipe</td>\n",
              "      <td>communal standpipe</td>\n",
              "    </tr>\n",
              "  </tbody>\n",
              "</table>\n",
              "<p>5 rows × 40 columns</p>\n",
              "</div>"
            ],
            "text/plain": [
              "      id  amount_tsh date_recorded        funder  gps_height     installer  \\\n",
              "0  69572      6000.0    2011-03-14         Roman        1390         Roman   \n",
              "1   8776         0.0    2013-03-06       Grumeti        1399       GRUMETI   \n",
              "2  34310        25.0    2013-02-25  Lottery Club         686  World vision   \n",
              "3  67743         0.0    2013-01-28        Unicef         263        UNICEF   \n",
              "4  19728         0.0    2011-07-13   Action In A           0       Artisan   \n",
              "\n",
              "   longitude   latitude              wpt_name  num_private  \\\n",
              "0  34.938093  -9.856322                  none            0   \n",
              "1  34.698766  -2.147466              Zahanati            0   \n",
              "2  37.460664  -3.821329           Kwa Mahundi            0   \n",
              "3  38.486161 -11.155298  Zahanati Ya Nanyumbu            0   \n",
              "4  31.130847  -1.825359               Shuleni            0   \n",
              "\n",
              "           ...          payment_type water_quality quality_group  \\\n",
              "0          ...              annually          soft          good   \n",
              "1          ...             never pay          soft          good   \n",
              "2          ...            per bucket          soft          good   \n",
              "3          ...             never pay          soft          good   \n",
              "4          ...             never pay          soft          good   \n",
              "\n",
              "       quantity  quantity_group                source           source_type  \\\n",
              "0        enough          enough                spring                spring   \n",
              "1  insufficient    insufficient  rainwater harvesting  rainwater harvesting   \n",
              "2        enough          enough                   dam                   dam   \n",
              "3           dry             dry           machine dbh              borehole   \n",
              "4      seasonal        seasonal  rainwater harvesting  rainwater harvesting   \n",
              "\n",
              "   source_class              waterpoint_type waterpoint_type_group  \n",
              "0   groundwater           communal standpipe    communal standpipe  \n",
              "1       surface           communal standpipe    communal standpipe  \n",
              "2       surface  communal standpipe multiple    communal standpipe  \n",
              "3   groundwater  communal standpipe multiple    communal standpipe  \n",
              "4       surface           communal standpipe    communal standpipe  \n",
              "\n",
              "[5 rows x 40 columns]"
            ]
          },
          "metadata": {
            "tags": []
          },
          "execution_count": 12
        }
      ]
    },
    {
      "metadata": {
        "id": "Lt5SYyww4dKy",
        "colab_type": "code",
        "colab": {
          "autoexec": {
            "startup": false,
            "wait_interval": 0
          },
          "base_uri": "https://localhost:8080/",
          "height": 204
        },
        "outputId": "b393c741-05d7-49dc-cb42-1a182238c7d6",
        "executionInfo": {
          "status": "ok",
          "timestamp": 1524827739326,
          "user_tz": -60,
          "elapsed": 848,
          "user": {
            "displayName": "Rodrigo Salles",
            "photoUrl": "https://lh3.googleusercontent.com/a/default-user=s128",
            "userId": "105913793239312369239"
          }
        }
      },
      "cell_type": "code",
      "source": [
        "target.head()"
      ],
      "execution_count": 13,
      "outputs": [
        {
          "output_type": "execute_result",
          "data": {
            "text/html": [
              "<div>\n",
              "<style scoped>\n",
              "    .dataframe tbody tr th:only-of-type {\n",
              "        vertical-align: middle;\n",
              "    }\n",
              "\n",
              "    .dataframe tbody tr th {\n",
              "        vertical-align: top;\n",
              "    }\n",
              "\n",
              "    .dataframe thead th {\n",
              "        text-align: right;\n",
              "    }\n",
              "</style>\n",
              "<table border=\"1\" class=\"dataframe\">\n",
              "  <thead>\n",
              "    <tr style=\"text-align: right;\">\n",
              "      <th></th>\n",
              "      <th>id</th>\n",
              "      <th>status_group</th>\n",
              "    </tr>\n",
              "  </thead>\n",
              "  <tbody>\n",
              "    <tr>\n",
              "      <th>0</th>\n",
              "      <td>69572</td>\n",
              "      <td>functional</td>\n",
              "    </tr>\n",
              "    <tr>\n",
              "      <th>1</th>\n",
              "      <td>8776</td>\n",
              "      <td>functional</td>\n",
              "    </tr>\n",
              "    <tr>\n",
              "      <th>2</th>\n",
              "      <td>34310</td>\n",
              "      <td>functional</td>\n",
              "    </tr>\n",
              "    <tr>\n",
              "      <th>3</th>\n",
              "      <td>67743</td>\n",
              "      <td>non functional</td>\n",
              "    </tr>\n",
              "    <tr>\n",
              "      <th>4</th>\n",
              "      <td>19728</td>\n",
              "      <td>functional</td>\n",
              "    </tr>\n",
              "  </tbody>\n",
              "</table>\n",
              "</div>"
            ],
            "text/plain": [
              "      id    status_group\n",
              "0  69572      functional\n",
              "1   8776      functional\n",
              "2  34310      functional\n",
              "3  67743  non functional\n",
              "4  19728      functional"
            ]
          },
          "metadata": {
            "tags": []
          },
          "execution_count": 13
        }
      ]
    },
    {
      "metadata": {
        "id": "KxS7u2zG4dRR",
        "colab_type": "code",
        "colab": {
          "autoexec": {
            "startup": false,
            "wait_interval": 0
          },
          "base_uri": "https://localhost:8080/",
          "height": 51
        },
        "outputId": "fdd47a15-defc-434b-a103-f16f987d1658",
        "executionInfo": {
          "status": "ok",
          "timestamp": 1524827740179,
          "user_tz": -60,
          "elapsed": 664,
          "user": {
            "displayName": "Rodrigo Salles",
            "photoUrl": "https://lh3.googleusercontent.com/a/default-user=s128",
            "userId": "105913793239312369239"
          }
        }
      },
      "cell_type": "code",
      "source": [
        "print('data:',data.shape)\n",
        "print('target:',target.shape)"
      ],
      "execution_count": 14,
      "outputs": [
        {
          "output_type": "stream",
          "text": [
            "data: (59400, 40)\n",
            "target: (59400, 2)\n"
          ],
          "name": "stdout"
        }
      ]
    },
    {
      "metadata": {
        "id": "G6w5ky565BDT",
        "colab_type": "code",
        "colab": {
          "autoexec": {
            "startup": false,
            "wait_interval": 0
          },
          "base_uri": "https://localhost:8080/",
          "height": 470
        },
        "outputId": "0b92a153-ef65-4457-828f-074b124fe6df",
        "executionInfo": {
          "status": "ok",
          "timestamp": 1524827741737,
          "user_tz": -60,
          "elapsed": 1182,
          "user": {
            "displayName": "Rodrigo Salles",
            "photoUrl": "https://lh3.googleusercontent.com/a/default-user=s128",
            "userId": "105913793239312369239"
          }
        }
      },
      "cell_type": "code",
      "source": [
        "target.status_group.value_counts(normalize=True).plot(kind=\"bar\",alpha=0.9)\n",
        "plt.title(\"Status(%)\")"
      ],
      "execution_count": 15,
      "outputs": [
        {
          "output_type": "execute_result",
          "data": {
            "text/plain": [
              "Text(0.5,1,'Status(%)')"
            ]
          },
          "metadata": {
            "tags": []
          },
          "execution_count": 15
        },
        {
          "output_type": "display_data",
          "data": {
            "image/png": "[encoded data removed]",
            "text/plain": [
              "<matplotlib.figure.Figure at 0x7f1536e31fd0>"
            ]
          },
          "metadata": {
            "tags": []
          }
        }
      ]
    },
    {
      "metadata": {
        "id": "D1OdwpYT5BOH",
        "colab_type": "code",
        "colab": {
          "autoexec": {
            "startup": false,
            "wait_interval": 0
          },
          "base_uri": "https://localhost:8080/",
          "height": 153
        },
        "outputId": "265c7463-8ea1-482e-a7d9-1b604bb3e559",
        "executionInfo": {
          "status": "ok",
          "timestamp": 1524827742763,
          "user_tz": -60,
          "elapsed": 656,
          "user": {
            "displayName": "Rodrigo Salles",
            "photoUrl": "https://lh3.googleusercontent.com/a/default-user=s128",
            "userId": "105913793239312369239"
          }
        }
      },
      "cell_type": "code",
      "source": [
        "data.payment_type.value_counts()"
      ],
      "execution_count": 16,
      "outputs": [
        {
          "output_type": "execute_result",
          "data": {
            "text/plain": [
              "never pay     25348\n",
              "per bucket     8985\n",
              "monthly        8300\n",
              "unknown        8157\n",
              "on failure     3914\n",
              "annually       3642\n",
              "other          1054\n",
              "Name: payment_type, dtype: int64"
            ]
          },
          "metadata": {
            "tags": []
          },
          "execution_count": 16
        }
      ]
    },
    {
      "metadata": {
        "id": "8lR8Iz425BVr",
        "colab_type": "code",
        "colab": {
          "autoexec": {
            "startup": false,
            "wait_interval": 0
          },
          "base_uri": "https://localhost:8080/",
          "height": 416
        },
        "outputId": "5fffa67b-123c-48a1-96ac-d850ea07c937",
        "executionInfo": {
          "status": "ok",
          "timestamp": 1524827743690,
          "user_tz": -60,
          "elapsed": 641,
          "user": {
            "displayName": "Rodrigo Salles",
            "photoUrl": "https://lh3.googleusercontent.com/a/default-user=s128",
            "userId": "105913793239312369239"
          }
        }
      },
      "cell_type": "code",
      "source": [
        "data.payment_type.value_counts(normalize=True).plot(kind=\"bar\",alpha=0.9)\n",
        "plt.title(\"Forma de pagamento\")"
      ],
      "execution_count": 17,
      "outputs": [
        {
          "output_type": "execute_result",
          "data": {
            "text/plain": [
              "Text(0.5,1,'Forma de pagamento')"
            ]
          },
          "metadata": {
            "tags": []
          },
          "execution_count": 17
        },
        {
          "output_type": "display_data",
          "data": {
            "image/png": "[encoded data removed]",
            "text/plain": [
              "<matplotlib.figure.Figure at 0x7f1536e34f60>"
            ]
          },
          "metadata": {
            "tags": []
          }
        }
      ]
    },
    {
      "metadata": {
        "id": "C80t8g4B5Bdf",
        "colab_type": "code",
        "colab": {
          "autoexec": {
            "startup": false,
            "wait_interval": 0
          }
        }
      },
      "cell_type": "code",
      "source": [
        "# Concatenar data e target(para o gráfico)\n",
        "df = pd.concat([data,target.status_group], axis=1)"
      ],
      "execution_count": 0,
      "outputs": []
    },
    {
      "metadata": {
        "id": "9w-vuNYF5Bl7",
        "colab_type": "code",
        "colab": {
          "autoexec": {
            "startup": false,
            "wait_interval": 0
          },
          "base_uri": "https://localhost:8080/",
          "height": 451
        },
        "outputId": "fe8e0e1f-8243-4c3c-a6f8-243849745972",
        "executionInfo": {
          "status": "ok",
          "timestamp": 1524827745923,
          "user_tz": -60,
          "elapsed": 1117,
          "user": {
            "displayName": "Rodrigo Salles",
            "photoUrl": "https://lh3.googleusercontent.com/a/default-user=s128",
            "userId": "105913793239312369239"
          }
        }
      },
      "cell_type": "code",
      "source": [
        "cores = [\"#009933\", \"#ff0000\", \"#95a5a6\"]\n",
        "fig = plt.figure(figsize=(18,6))\n",
        "dados = sns.countplot(data=df, x='payment_type', hue='status_group', palette=cores)\n",
        "\n",
        "# Posicionando valores acima das barras\n",
        "for p in dados.patches:\n",
        "    b=p.get_bbox()\n",
        "    dados.annotate(\"{:.0f}\".format(b.y1 + b.y0), ((b.x0 + b.x1)/2 - 0.03, b.y1 + 15))\n",
        "\n",
        "plt.title('FORMA DE PAGAMENTO X STATUS FUNCIONAL \\n Total: %s pontos' % (df.shape[0]))\n",
        "plt.xlabel('Forma de pagamento')\n",
        "plt.ylabel('Pontos de Abastecimento')\n",
        "plt.show()"
      ],
      "execution_count": 19,
      "outputs": [
        {
          "output_type": "stream",
          "text": [
            "/usr/local/lib/python3.6/dist-packages/seaborn/categorical.py:1468: FutureWarning: remove_na is deprecated and is a private function. Do not use.\n",
            "  stat_data = remove_na(group_data[hue_mask])\n"
          ],
          "name": "stderr"
        },
        {
          "output_type": "display_data",
          "data": {
            "image/png": "[encoded data removed]",
            "text/plain": [
              "<matplotlib.figure.Figure at 0x7f1534d350f0>"
            ]
          },
          "metadata": {
            "tags": []
          }
        }
      ]
    },
    {
      "metadata": {
        "id": "qGeuqQX95BrO",
        "colab_type": "code",
        "colab": {
          "autoexec": {
            "startup": false,
            "wait_interval": 0
          },
          "base_uri": "https://localhost:8080/",
          "height": 119
        },
        "outputId": "80f6ef88-bde3-4672-9c16-0e38cbff0ba4",
        "executionInfo": {
          "status": "ok",
          "timestamp": 1524827746579,
          "user_tz": -60,
          "elapsed": 558,
          "user": {
            "displayName": "Rodrigo Salles",
            "photoUrl": "https://lh3.googleusercontent.com/a/default-user=s128",
            "userId": "105913793239312369239"
          }
        }
      },
      "cell_type": "code",
      "source": [
        "df.quantity.value_counts()"
      ],
      "execution_count": 20,
      "outputs": [
        {
          "output_type": "execute_result",
          "data": {
            "text/plain": [
              "enough          33186\n",
              "insufficient    15129\n",
              "dry              6246\n",
              "seasonal         4050\n",
              "unknown           789\n",
              "Name: quantity, dtype: int64"
            ]
          },
          "metadata": {
            "tags": []
          },
          "execution_count": 20
        }
      ]
    },
    {
      "metadata": {
        "id": "fFmXsHTw5Bxe",
        "colab_type": "code",
        "colab": {
          "autoexec": {
            "startup": false,
            "wait_interval": 0
          },
          "base_uri": "https://localhost:8080/",
          "height": 454
        },
        "outputId": "ef1063b6-ce98-498c-e32d-55bb6be7bcc3",
        "executionInfo": {
          "status": "ok",
          "timestamp": 1524827747699,
          "user_tz": -60,
          "elapsed": 998,
          "user": {
            "displayName": "Rodrigo Salles",
            "photoUrl": "https://lh3.googleusercontent.com/a/default-user=s128",
            "userId": "105913793239312369239"
          }
        }
      },
      "cell_type": "code",
      "source": [
        "cores = [\"#0000ff\", \"#800000\", \"#95a5a6\"]\n",
        "fig = plt.figure(figsize=(18,6))\n",
        "dados = sns.countplot(data=df, x='quantity', hue='status_group', palette=cores)\n",
        "\n",
        "# Posicionando valores acima das barras\n",
        "for p in dados.patches:\n",
        "    b=p.get_bbox()\n",
        "    dados.annotate(\"{:.0f}\".format(b.y1 + b.y0), ((b.x0 + b.x1)/2 - 0.03, b.y1 + 15))\n",
        "\n",
        "plt.title('QUANTIDADE DE ÁGUA X STATUS FUNCIONAL \\n Total: %s pontos' % (df.shape[0]))\n",
        "plt.xlabel('Quantidade de água')\n",
        "plt.ylabel('Pontos de Abastecimento')\n",
        "plt.show()"
      ],
      "execution_count": 21,
      "outputs": [
        {
          "output_type": "stream",
          "text": [
            "/usr/local/lib/python3.6/dist-packages/seaborn/categorical.py:1468: FutureWarning: remove_na is deprecated and is a private function. Do not use.\n",
            "  stat_data = remove_na(group_data[hue_mask])\n"
          ],
          "name": "stderr"
        },
        {
          "output_type": "display_data",
          "data": {
            "image/png": "[encoded data removed]",
            "text/plain": [
              "<matplotlib.figure.Figure at 0x7f1534d02eb8>"
            ]
          },
          "metadata": {
            "tags": []
          }
        }
      ]
    },
    {
      "metadata": {
        "id": "CINKdjqz5faJ",
        "colab_type": "code",
        "colab": {
          "autoexec": {
            "startup": false,
            "wait_interval": 0
          },
          "base_uri": "https://localhost:8080/",
          "height": 799
        },
        "outputId": "a57fb468-1913-4b47-e5e9-a66a32e9f435",
        "executionInfo": {
          "status": "ok",
          "timestamp": 1524827748480,
          "user_tz": -60,
          "elapsed": 656,
          "user": {
            "displayName": "Rodrigo Salles",
            "photoUrl": "https://lh3.googleusercontent.com/a/default-user=s128",
            "userId": "105913793239312369239"
          }
        }
      },
      "cell_type": "code",
      "source": [
        "df.info()"
      ],
      "execution_count": 22,
      "outputs": [
        {
          "output_type": "stream",
          "text": [
            "<class 'pandas.core.frame.DataFrame'>\n",
            "RangeIndex: 59400 entries, 0 to 59399\n",
            "Data columns (total 41 columns):\n",
            "id                       59400 non-null int64\n",
            "amount_tsh               59400 non-null float64\n",
            "date_recorded            59400 non-null object\n",
            "funder                   55765 non-null object\n",
            "gps_height               59400 non-null int64\n",
            "installer                55745 non-null object\n",
            "longitude                59400 non-null float64\n",
            "latitude                 59400 non-null float64\n",
            "wpt_name                 59400 non-null object\n",
            "num_private              59400 non-null int64\n",
            "basin                    59400 non-null object\n",
            "subvillage               59029 non-null object\n",
            "region                   59400 non-null object\n",
            "region_code              59400 non-null int64\n",
            "district_code            59400 non-null int64\n",
            "lga                      59400 non-null object\n",
            "ward                     59400 non-null object\n",
            "population               59400 non-null int64\n",
            "public_meeting           56066 non-null object\n",
            "recorded_by              59400 non-null object\n",
            "scheme_management        55523 non-null object\n",
            "scheme_name              31234 non-null object\n",
            "permit                   56344 non-null object\n",
            "construction_year        59400 non-null int64\n",
            "extraction_type          59400 non-null object\n",
            "extraction_type_group    59400 non-null object\n",
            "extraction_type_class    59400 non-null object\n",
            "management               59400 non-null object\n",
            "management_group         59400 non-null object\n",
            "payment                  59400 non-null object\n",
            "payment_type             59400 non-null object\n",
            "water_quality            59400 non-null object\n",
            "quality_group            59400 non-null object\n",
            "quantity                 59400 non-null object\n",
            "quantity_group           59400 non-null object\n",
            "source                   59400 non-null object\n",
            "source_type              59400 non-null object\n",
            "source_class             59400 non-null object\n",
            "waterpoint_type          59400 non-null object\n",
            "waterpoint_type_group    59400 non-null object\n",
            "status_group             59400 non-null object\n",
            "dtypes: float64(3), int64(7), object(31)\n",
            "memory usage: 18.6+ MB\n"
          ],
          "name": "stdout"
        }
      ]
    },
    {
      "metadata": {
        "id": "Ax4-w0cV5fie",
        "colab_type": "code",
        "colab": {
          "autoexec": {
            "startup": false,
            "wait_interval": 0
          }
        }
      },
      "cell_type": "code",
      "source": [
        "# Pontos que aparentemente não são importantes:\n",
        "# wpt_name - Nome do ponto de abastecimento, se houver um nome - Não deve ser importante para o status do ponto de abast.\n",
        "# recorded_by - Na feature recorded_by todos os valores são \"GeoData Consultants Ltd\". \n",
        "data.drop('wpt_name', axis=1, inplace=True)\n",
        "data.drop('recorded_by', axis=1, inplace=True)"
      ],
      "execution_count": 0,
      "outputs": []
    },
    {
      "metadata": {
        "id": "z-L6LRNA5fvH",
        "colab_type": "code",
        "colab": {
          "autoexec": {
            "startup": false,
            "wait_interval": 0
          },
          "base_uri": "https://localhost:8080/",
          "height": 466
        },
        "outputId": "ccca33a2-f9bc-4f59-ed8a-2f0ea902a3c6",
        "executionInfo": {
          "status": "ok",
          "timestamp": 1524827754926,
          "user_tz": -60,
          "elapsed": 5000,
          "user": {
            "displayName": "Rodrigo Salles",
            "photoUrl": "https://lh3.googleusercontent.com/a/default-user=s128",
            "userId": "105913793239312369239"
          }
        }
      },
      "cell_type": "code",
      "source": [
        "plt.figure(figsize=(10,6))\n",
        "sns.heatmap(data.isnull(),cbar=False, yticklabels=False, cmap='viridis')\n",
        "plt.show()"
      ],
      "execution_count": 24,
      "outputs": [
        {
          "output_type": "display_data",
          "data": {
            "image/png": "[encoded data removed]",
            "text/plain": [
              "<matplotlib.figure.Figure at 0x7f1534d02208>"
            ]
          },
          "metadata": {
            "tags": []
          }
        }
      ]
    },
    {
      "metadata": {
        "id": "wBVkFNhp5f2k",
        "colab_type": "code",
        "colab": {
          "autoexec": {
            "startup": false,
            "wait_interval": 0
          }
        }
      },
      "cell_type": "code",
      "source": [
        "# Preencher os valores ausentes\n",
        "for col in ['funder','installer','subvillage','public_meeting','scheme_management','scheme_name','permit']:\n",
        "    data[col].fillna('SI', inplace=True) # SI = sem informações"
      ],
      "execution_count": 0,
      "outputs": []
    },
    {
      "metadata": {
        "id": "h6109pZ_5fze",
        "colab_type": "code",
        "colab": {
          "autoexec": {
            "startup": false,
            "wait_interval": 0
          },
          "base_uri": "https://localhost:8080/",
          "height": 466
        },
        "outputId": "b5ffe93b-98a6-4d12-f80e-d006eeb39414",
        "executionInfo": {
          "status": "ok",
          "timestamp": 1524827761776,
          "user_tz": -60,
          "elapsed": 4307,
          "user": {
            "displayName": "Rodrigo Salles",
            "photoUrl": "https://lh3.googleusercontent.com/a/default-user=s128",
            "userId": "105913793239312369239"
          }
        }
      },
      "cell_type": "code",
      "source": [
        "plt.figure(figsize=(10,6))\n",
        "sns.heatmap(data.isnull(),cbar=False, yticklabels=False, cmap='viridis')\n",
        "plt.show()"
      ],
      "execution_count": 26,
      "outputs": [
        {
          "output_type": "display_data",
          "data": {
            "image/png": "[encoded data removed]",
            "text/plain": [
              "<matplotlib.figure.Figure at 0x7f1534d020b8>"
            ]
          },
          "metadata": {
            "tags": []
          }
        }
      ]
    },
    {
      "metadata": {
        "id": "04ra9Iof5frl",
        "colab_type": "code",
        "colab": {
          "autoexec": {
            "startup": false,
            "wait_interval": 0
          },
          "base_uri": "https://localhost:8080/",
          "height": 493
        },
        "outputId": "08621b31-bcc9-4b2f-e687-b9028200e70c",
        "executionInfo": {
          "status": "ok",
          "timestamp": 1524827762683,
          "user_tz": -60,
          "elapsed": 728,
          "user": {
            "displayName": "Rodrigo Salles",
            "photoUrl": "https://lh3.googleusercontent.com/a/default-user=s128",
            "userId": "105913793239312369239"
          }
        }
      },
      "cell_type": "code",
      "source": [
        "# Verificar features que possuem muitas 'categorias unitárias'.\n",
        "for col in list(data):\n",
        "    if data[col].dtype == 'O':\n",
        "        print(col,':',len(data[col].unique()))"
      ],
      "execution_count": 27,
      "outputs": [
        {
          "output_type": "stream",
          "text": [
            "date_recorded : 356\n",
            "funder : 1898\n",
            "installer : 2145\n",
            "basin : 9\n",
            "subvillage : 19288\n",
            "region : 21\n",
            "lga : 125\n",
            "ward : 2092\n",
            "public_meeting : 3\n",
            "scheme_management : 13\n",
            "scheme_name : 2697\n",
            "permit : 3\n",
            "extraction_type : 18\n",
            "extraction_type_group : 13\n",
            "extraction_type_class : 7\n",
            "management : 12\n",
            "management_group : 5\n",
            "payment : 7\n",
            "payment_type : 7\n",
            "water_quality : 8\n",
            "quality_group : 6\n",
            "quantity : 5\n",
            "quantity_group : 5\n",
            "source : 10\n",
            "source_type : 7\n",
            "source_class : 3\n",
            "waterpoint_type : 7\n",
            "waterpoint_type_group : 6\n"
          ],
          "name": "stdout"
        }
      ]
    },
    {
      "metadata": {
        "id": "ubw-lw-o5foS",
        "colab_type": "code",
        "colab": {
          "autoexec": {
            "startup": false,
            "wait_interval": 0
          }
        }
      },
      "cell_type": "code",
      "source": [
        "# Agrupar os casos raros:\n",
        "for col in ['funder', 'installer', 'subvillage','ward','scheme_name']:\n",
        "    val = data[col].value_counts(normalize=False, sort=True, ascending=False)\n",
        "    val_raros = [k for k in val.keys() if val[k]<50]\n",
        "    if len(val_raros)>0:\n",
        "        data.loc[data[col].isin(val_raros),col] = col+'_raros'"
      ],
      "execution_count": 0,
      "outputs": []
    },
    {
      "metadata": {
        "id": "afz2aEGY5B39",
        "colab_type": "code",
        "colab": {
          "autoexec": {
            "startup": false,
            "wait_interval": 0
          },
          "base_uri": "https://localhost:8080/",
          "height": 119
        },
        "outputId": "d73fd54b-c894-4227-db27-b9a74033fdff",
        "executionInfo": {
          "status": "ok",
          "timestamp": 1524827765225,
          "user_tz": -60,
          "elapsed": 644,
          "user": {
            "displayName": "Rodrigo Salles",
            "photoUrl": "https://lh3.googleusercontent.com/a/default-user=s128",
            "userId": "105913793239312369239"
          }
        }
      },
      "cell_type": "code",
      "source": [
        "data.date_recorded.head()"
      ],
      "execution_count": 29,
      "outputs": [
        {
          "output_type": "execute_result",
          "data": {
            "text/plain": [
              "0    2011-03-14\n",
              "1    2013-03-06\n",
              "2    2013-02-25\n",
              "3    2013-01-28\n",
              "4    2011-07-13\n",
              "Name: date_recorded, dtype: object"
            ]
          },
          "metadata": {
            "tags": []
          },
          "execution_count": 29
        }
      ]
    },
    {
      "metadata": {
        "id": "ktYdn9Pm5B9l",
        "colab_type": "code",
        "colab": {
          "autoexec": {
            "startup": false,
            "wait_interval": 0
          },
          "base_uri": "https://localhost:8080/",
          "height": 119
        },
        "outputId": "88520752-6acf-4360-9e67-ba7e3956d8b7",
        "executionInfo": {
          "status": "ok",
          "timestamp": 1524827766165,
          "user_tz": -60,
          "elapsed": 651,
          "user": {
            "displayName": "Rodrigo Salles",
            "photoUrl": "https://lh3.googleusercontent.com/a/default-user=s128",
            "userId": "105913793239312369239"
          }
        }
      },
      "cell_type": "code",
      "source": [
        "data.construction_year.head()"
      ],
      "execution_count": 30,
      "outputs": [
        {
          "output_type": "execute_result",
          "data": {
            "text/plain": [
              "0    1999\n",
              "1    2010\n",
              "2    2009\n",
              "3    1986\n",
              "4       0\n",
              "Name: construction_year, dtype: int64"
            ]
          },
          "metadata": {
            "tags": []
          },
          "execution_count": 30
        }
      ]
    },
    {
      "metadata": {
        "id": "8Ok-1SA26JUX",
        "colab_type": "code",
        "colab": {
          "autoexec": {
            "startup": false,
            "wait_interval": 0
          }
        }
      },
      "cell_type": "code",
      "source": [
        "#Atualizando a coluna \"date_recorded\" até a data de referência \"2018-01-01\". Valor em meses.\n",
        "import datetime\n",
        "d1= pd.to_datetime(data['date_recorded'])\n",
        "d2 = pd.to_datetime('2018-01-01')\n",
        "dias = abs(d2 - d1).dt.days\n",
        "meses = dias/30\n",
        "data['date_recorded'] = meses"
      ],
      "execution_count": 0,
      "outputs": []
    },
    {
      "metadata": {
        "id": "glTCj4lc6Jfu",
        "colab_type": "code",
        "colab": {
          "autoexec": {
            "startup": false,
            "wait_interval": 0
          },
          "base_uri": "https://localhost:8080/",
          "height": 119
        },
        "outputId": "6cbf018b-819f-4d79-a18e-00924ac7d5d7",
        "executionInfo": {
          "status": "ok",
          "timestamp": 1524827768095,
          "user_tz": -60,
          "elapsed": 687,
          "user": {
            "displayName": "Rodrigo Salles",
            "photoUrl": "https://lh3.googleusercontent.com/a/default-user=s128",
            "userId": "105913793239312369239"
          }
        }
      },
      "cell_type": "code",
      "source": [
        "data['date_recorded'].head()"
      ],
      "execution_count": 32,
      "outputs": [
        {
          "output_type": "execute_result",
          "data": {
            "text/plain": [
              "0    82.833333\n",
              "1    58.733333\n",
              "2    59.033333\n",
              "3    59.966667\n",
              "4    78.800000\n",
              "Name: date_recorded, dtype: float64"
            ]
          },
          "metadata": {
            "tags": []
          },
          "execution_count": 32
        }
      ]
    },
    {
      "metadata": {
        "id": "VnqwazQO6JpD",
        "colab_type": "code",
        "colab": {
          "autoexec": {
            "startup": false,
            "wait_interval": 0
          },
          "base_uri": "https://localhost:8080/",
          "height": 34
        },
        "outputId": "b33f288b-0902-4c29-eda0-c32fed67043b",
        "executionInfo": {
          "status": "ok",
          "timestamp": 1524827768783,
          "user_tz": -60,
          "elapsed": 554,
          "user": {
            "displayName": "Rodrigo Salles",
            "photoUrl": "https://lh3.googleusercontent.com/a/default-user=s128",
            "userId": "105913793239312369239"
          }
        }
      },
      "cell_type": "code",
      "source": [
        "# Verificando a média dos anos\n",
        "data['construction_year'].mean()"
      ],
      "execution_count": 33,
      "outputs": [
        {
          "output_type": "execute_result",
          "data": {
            "text/plain": [
              "1300.6524747474748"
            ]
          },
          "metadata": {
            "tags": []
          },
          "execution_count": 33
        }
      ]
    },
    {
      "metadata": {
        "id": "bVSs5L1J6Jwj",
        "colab_type": "code",
        "colab": {
          "autoexec": {
            "startup": false,
            "wait_interval": 0
          },
          "base_uri": "https://localhost:8080/",
          "height": 34
        },
        "outputId": "c3560020-8541-4b6c-cc04-928dec57b5fc",
        "executionInfo": {
          "status": "ok",
          "timestamp": 1524827769519,
          "user_tz": -60,
          "elapsed": 557,
          "user": {
            "displayName": "Rodrigo Salles",
            "photoUrl": "https://lh3.googleusercontent.com/a/default-user=s128",
            "userId": "105913793239312369239"
          }
        }
      },
      "cell_type": "code",
      "source": [
        "# Calcular a média dos valores não-nulos\n",
        "soma = 0\n",
        "cont = 0\n",
        "for i in data['construction_year']:\n",
        "    if i != 0:\n",
        "        soma = soma+i\n",
        "        cont = cont+1\n",
        "media = round(soma/cont)\n",
        "media"
      ],
      "execution_count": 34,
      "outputs": [
        {
          "output_type": "execute_result",
          "data": {
            "text/plain": [
              "1997"
            ]
          },
          "metadata": {
            "tags": []
          },
          "execution_count": 34
        }
      ]
    },
    {
      "metadata": {
        "id": "dthiM_jv6J2J",
        "colab_type": "code",
        "colab": {
          "autoexec": {
            "startup": false,
            "wait_interval": 0
          }
        }
      },
      "cell_type": "code",
      "source": [
        "# Substituindo os valores nulos pela média\n",
        "data.loc[data['construction_year'] == 0,'construction_year'] = media"
      ],
      "execution_count": 0,
      "outputs": []
    },
    {
      "metadata": {
        "id": "pJzO_whs6J8c",
        "colab_type": "code",
        "colab": {
          "autoexec": {
            "startup": false,
            "wait_interval": 0
          }
        }
      },
      "cell_type": "code",
      "source": [
        "# Agora que 'construction_year' está completa, vou \"contar os anos\" em referência à 2018.\n",
        "data['construction_year'] = 2018 - data['construction_year']"
      ],
      "execution_count": 0,
      "outputs": []
    },
    {
      "metadata": {
        "id": "tTh2pGun6KE-",
        "colab_type": "code",
        "colab": {
          "autoexec": {
            "startup": false,
            "wait_interval": 0
          },
          "base_uri": "https://localhost:8080/",
          "height": 119
        },
        "outputId": "97c28826-a624-44a2-b6ba-51262d799935",
        "executionInfo": {
          "status": "ok",
          "timestamp": 1524827771611,
          "user_tz": -60,
          "elapsed": 583,
          "user": {
            "displayName": "Rodrigo Salles",
            "photoUrl": "https://lh3.googleusercontent.com/a/default-user=s128",
            "userId": "105913793239312369239"
          }
        }
      },
      "cell_type": "code",
      "source": [
        "data['construction_year'].head()"
      ],
      "execution_count": 37,
      "outputs": [
        {
          "output_type": "execute_result",
          "data": {
            "text/plain": [
              "0    19\n",
              "1     8\n",
              "2     9\n",
              "3    32\n",
              "4    21\n",
              "Name: construction_year, dtype: int64"
            ]
          },
          "metadata": {
            "tags": []
          },
          "execution_count": 37
        }
      ]
    },
    {
      "metadata": {
        "id": "gJOgoLny6KKv",
        "colab_type": "code",
        "colab": {
          "autoexec": {
            "startup": false,
            "wait_interval": 0
          }
        }
      },
      "cell_type": "code",
      "source": [
        "for col in ['funder','installer','subvillage','lga','ward','scheme_name']:\n",
        "    # Converter a coluna para 'category'\n",
        "    data[col] = data[col].astype('category')\n",
        "    # Criar uma nova coluna codificada\n",
        "    data[col+'_new']=data[col].cat.codes\n",
        "    # Eliminar a coluna original\n",
        "    data.drop(col, axis=1, inplace=True)"
      ],
      "execution_count": 0,
      "outputs": []
    },
    {
      "metadata": {
        "id": "dJkUAGOP6mez",
        "colab_type": "code",
        "colab": {
          "autoexec": {
            "startup": false,
            "wait_interval": 0
          }
        }
      },
      "cell_type": "code",
      "source": [
        "for col in ['basin','region','public_meeting','scheme_management','permit','extraction_type','extraction_type_group','extraction_type_class','management','management_group','payment','payment_type','water_quality','quality_group','quantity','quantity_group','source','source_type','source_class','waterpoint_type','waterpoint_type_group']:\n",
        "    nova_col = pd.get_dummies(data[col])\n",
        "    data = pd.concat([data,nova_col],axis=1)\n",
        "    data.drop(col, axis=1,inplace=True)\n",
        "    \n",
        "# data = pd.get_dummies(data, columns=['basin','region','public_meeting','scheme_management','permit','extraction_type','extraction_type_group','extraction_type_class','management','management_group','payment','payment_type','water_quality','quality_group','quantity','quantity_group','source','source_type','source_class','waterpoint_type','waterpoint_type_group'], drop_first=True)\n",
        "        "
      ],
      "execution_count": 0,
      "outputs": []
    },
    {
      "metadata": {
        "id": "ba9ZxYZN6mrs",
        "colab_type": "code",
        "colab": {
          "autoexec": {
            "startup": false,
            "wait_interval": 0
          }
        }
      },
      "cell_type": "code",
      "source": [
        "data['gps_height'] = abs(data['gps_height'])"
      ],
      "execution_count": 0,
      "outputs": []
    },
    {
      "metadata": {
        "id": "P6YZiXfY6nIv",
        "colab_type": "code",
        "colab": {
          "autoexec": {
            "startup": false,
            "wait_interval": 0
          }
        }
      },
      "cell_type": "code",
      "source": [
        "# Codificar o 'target'\n",
        " # Converter a coluna para 'category'\n",
        "target['status_group'] = target['status_group'].astype('category')\n",
        "# Criar uma nova coluna codificada\n",
        "target['status_group_new']=target['status_group'].cat.codes"
      ],
      "execution_count": 0,
      "outputs": []
    },
    {
      "metadata": {
        "id": "l8XyoPHqBzMB",
        "colab_type": "code",
        "colab": {
          "autoexec": {
            "startup": false,
            "wait_interval": 0
          },
          "base_uri": "https://localhost:8080/",
          "height": 204
        },
        "outputId": "1571d628-cce1-480f-c10c-5e628f0cd629",
        "executionInfo": {
          "status": "ok",
          "timestamp": 1524828140124,
          "user_tz": -60,
          "elapsed": 689,
          "user": {
            "displayName": "Rodrigo Salles",
            "photoUrl": "https://lh3.googleusercontent.com/a/default-user=s128",
            "userId": "105913793239312369239"
          }
        }
      },
      "cell_type": "code",
      "source": [
        "target.head()"
      ],
      "execution_count": 42,
      "outputs": [
        {
          "output_type": "execute_result",
          "data": {
            "text/html": [
              "<div>\n",
              "<style scoped>\n",
              "    .dataframe tbody tr th:only-of-type {\n",
              "        vertical-align: middle;\n",
              "    }\n",
              "\n",
              "    .dataframe tbody tr th {\n",
              "        vertical-align: top;\n",
              "    }\n",
              "\n",
              "    .dataframe thead th {\n",
              "        text-align: right;\n",
              "    }\n",
              "</style>\n",
              "<table border=\"1\" class=\"dataframe\">\n",
              "  <thead>\n",
              "    <tr style=\"text-align: right;\">\n",
              "      <th></th>\n",
              "      <th>id</th>\n",
              "      <th>status_group</th>\n",
              "      <th>status_group_new</th>\n",
              "    </tr>\n",
              "  </thead>\n",
              "  <tbody>\n",
              "    <tr>\n",
              "      <th>0</th>\n",
              "      <td>69572</td>\n",
              "      <td>functional</td>\n",
              "      <td>0</td>\n",
              "    </tr>\n",
              "    <tr>\n",
              "      <th>1</th>\n",
              "      <td>8776</td>\n",
              "      <td>functional</td>\n",
              "      <td>0</td>\n",
              "    </tr>\n",
              "    <tr>\n",
              "      <th>2</th>\n",
              "      <td>34310</td>\n",
              "      <td>functional</td>\n",
              "      <td>0</td>\n",
              "    </tr>\n",
              "    <tr>\n",
              "      <th>3</th>\n",
              "      <td>67743</td>\n",
              "      <td>non functional</td>\n",
              "      <td>2</td>\n",
              "    </tr>\n",
              "    <tr>\n",
              "      <th>4</th>\n",
              "      <td>19728</td>\n",
              "      <td>functional</td>\n",
              "      <td>0</td>\n",
              "    </tr>\n",
              "  </tbody>\n",
              "</table>\n",
              "</div>"
            ],
            "text/plain": [
              "      id    status_group  status_group_new\n",
              "0  69572      functional                 0\n",
              "1   8776      functional                 0\n",
              "2  34310      functional                 0\n",
              "3  67743  non functional                 2\n",
              "4  19728      functional                 0"
            ]
          },
          "metadata": {
            "tags": []
          },
          "execution_count": 42
        }
      ]
    },
    {
      "metadata": {
        "id": "jgkWOxXF687E",
        "colab_type": "text"
      },
      "cell_type": "markdown",
      "source": [
        "**Criando o classificador**"
      ]
    },
    {
      "metadata": {
        "id": "BbyONClU6nBL",
        "colab_type": "code",
        "colab": {
          "autoexec": {
            "startup": false,
            "wait_interval": 0
          }
        }
      },
      "cell_type": "code",
      "source": [
        "from sklearn.linear_model import LogisticRegression\n",
        "from sklearn.model_selection import cross_val_score\n",
        "from sklearn.metrics import accuracy_score\n",
        "from sklearn.model_selection import KFold, cross_val_score, train_test_split\n",
        "from sklearn.ensemble import RandomForestClassifier"
      ],
      "execution_count": 0,
      "outputs": []
    },
    {
      "metadata": {
        "id": "ztu2Yvo06m9C",
        "colab_type": "code",
        "colab": {
          "autoexec": {
            "startup": false,
            "wait_interval": 0
          }
        }
      },
      "cell_type": "code",
      "source": [
        "# Vamos reservar 20% dos dados para testes\n",
        "all_X = data\n",
        "all_y = target.status_group_new\n",
        "train_X, test_X, train_y, test_y = train_test_split(all_X, all_y, test_size=0.20,random_state=0)"
      ],
      "execution_count": 0,
      "outputs": []
    },
    {
      "metadata": {
        "id": "JyAWfRaDkcEY",
        "colab_type": "text"
      },
      "cell_type": "markdown",
      "source": [
        "**Regressão Logística multinomial**"
      ]
    },
    {
      "metadata": {
        "id": "NnsQlJ4Hkk1W",
        "colab_type": "code",
        "colab": {
          "autoexec": {
            "startup": false,
            "wait_interval": 0
          }
        }
      },
      "cell_type": "code",
      "source": [
        "rl = LogisticRegression(random_state=0, multi_class='ovr')"
      ],
      "execution_count": 0,
      "outputs": []
    },
    {
      "metadata": {
        "id": "TpHeB7oYklDC",
        "colab_type": "code",
        "colab": {
          "autoexec": {
            "startup": false,
            "wait_interval": 0
          },
          "base_uri": "https://localhost:8080/",
          "height": 34
        },
        "outputId": "f55e2055-6463-4ae6-f7b2-5af558b45b70",
        "executionInfo": {
          "status": "ok",
          "timestamp": 1524739798647,
          "user_tz": -60,
          "elapsed": 13136,
          "user": {
            "displayName": "Rodrigo Salles",
            "photoUrl": "https://lh3.googleusercontent.com/a/default-user=s128",
            "userId": "105913793239312369239"
          }
        }
      },
      "cell_type": "code",
      "source": [
        "rl.fit(train_X, train_y)\n",
        "predictions = rl.predict(test_X)\n",
        "accuracy = accuracy_score(test_y, predictions)\n",
        "print(accuracy)"
      ],
      "execution_count": 174,
      "outputs": [
        {
          "output_type": "stream",
          "text": [
            "0.7201178451178452\n"
          ],
          "name": "stdout"
        }
      ]
    },
    {
      "metadata": {
        "id": "Un__exgmklNv",
        "colab_type": "code",
        "colab": {
          "autoexec": {
            "startup": false,
            "wait_interval": 0
          },
          "base_uri": "https://localhost:8080/",
          "height": 68
        },
        "outputId": "497a0665-882f-45ab-824b-1ffb6a75d805",
        "executionInfo": {
          "status": "ok",
          "timestamp": 1524740355240,
          "user_tz": -60,
          "elapsed": 138593,
          "user": {
            "displayName": "Rodrigo Salles",
            "photoUrl": "https://lh3.googleusercontent.com/a/default-user=s128",
            "userId": "105913793239312369239"
          }
        }
      },
      "cell_type": "code",
      "source": [
        "# Validação cruzada\n",
        "scores = cross_val_score(rl, all_X, all_y, cv=10)\n",
        "scores.sort()\n",
        "accuracy = scores.mean()\n",
        "\n",
        "print(scores)\n",
        "print(accuracy)"
      ],
      "execution_count": 178,
      "outputs": [
        {
          "output_type": "stream",
          "text": [
            "[0.70808081 0.71173598 0.71202425 0.71587275 0.71611382 0.72041744\n",
            " 0.72142737 0.72323232 0.73068507 0.73804714]\n",
            "0.719763695213497\n"
          ],
          "name": "stdout"
        }
      ]
    },
    {
      "metadata": {
        "id": "w7QIiOB4klgW",
        "colab_type": "code",
        "colab": {
          "autoexec": {
            "startup": false,
            "wait_interval": 0
          }
        }
      },
      "cell_type": "code",
      "source": [
        ""
      ],
      "execution_count": 0,
      "outputs": []
    },
    {
      "metadata": {
        "id": "urnl0-WzkKdU",
        "colab_type": "text"
      },
      "cell_type": "markdown",
      "source": [
        "**Random Forest**"
      ]
    },
    {
      "metadata": {
        "id": "0fj91lPN6m5A",
        "colab_type": "code",
        "colab": {
          "autoexec": {
            "startup": false,
            "wait_interval": 0
          }
        }
      },
      "cell_type": "code",
      "source": [
        "rf = RandomForestClassifier(n_estimators=20)"
      ],
      "execution_count": 0,
      "outputs": []
    },
    {
      "metadata": {
        "id": "btOH11Ui7bhR",
        "colab_type": "code",
        "colab": {
          "autoexec": {
            "startup": false,
            "wait_interval": 0
          },
          "base_uri": "https://localhost:8080/",
          "height": 34
        },
        "outputId": "4122b181-7a76-4f83-bddd-e0f76c0d6a72",
        "executionInfo": {
          "status": "ok",
          "timestamp": 1524739427466,
          "user_tz": -60,
          "elapsed": 3156,
          "user": {
            "displayName": "Rodrigo Salles",
            "photoUrl": "https://lh3.googleusercontent.com/a/default-user=s128",
            "userId": "105913793239312369239"
          }
        }
      },
      "cell_type": "code",
      "source": [
        "rf.fit(train_X, train_y)\n",
        "predictions = rf.predict(test_X)\n",
        "accuracy = accuracy_score(test_y, predictions)\n",
        "print(accuracy)"
      ],
      "execution_count": 171,
      "outputs": [
        {
          "output_type": "stream",
          "text": [
            "0.8032828282828283\n"
          ],
          "name": "stdout"
        }
      ]
    },
    {
      "metadata": {
        "id": "pGUKpz_Q7bue",
        "colab_type": "code",
        "colab": {
          "autoexec": {
            "startup": false,
            "wait_interval": 0
          },
          "base_uri": "https://localhost:8080/",
          "height": 68
        },
        "outputId": "1a2b30b4-0a11-409d-c195-22c0e473d9dc",
        "executionInfo": {
          "status": "ok",
          "timestamp": 1524739463786,
          "user_tz": -60,
          "elapsed": 28959,
          "user": {
            "displayName": "Rodrigo Salles",
            "photoUrl": "https://lh3.googleusercontent.com/a/default-user=s128",
            "userId": "105913793239312369239"
          }
        }
      },
      "cell_type": "code",
      "source": [
        "# Validação cruzada\n",
        "scores = cross_val_score(rf, all_X, all_y, cv=10)\n",
        "scores.sort()\n",
        "accuracy = scores.mean()\n",
        "\n",
        "print(scores)\n",
        "print(accuracy)"
      ],
      "execution_count": 172,
      "outputs": [
        {
          "output_type": "stream",
          "text": [
            "[0.79558848 0.79835045 0.80050505 0.80316552 0.80330077 0.80373674\n",
            " 0.80454545 0.81097458 0.8126578  0.81329966]\n",
            "0.8046124517840489\n"
          ],
          "name": "stdout"
        }
      ]
    },
    {
      "metadata": {
        "id": "sSnWE0aI4dWz",
        "colab_type": "code",
        "colab": {
          "autoexec": {
            "startup": false,
            "wait_interval": 0
          }
        }
      },
      "cell_type": "code",
      "source": [
        "# SVM\n",
        "# training a linear SVM classifier\n",
        "from sklearn.svm import SVC\n",
        "svm_model_linear = SVC(kernel = 'linear', C = 1).fit(train_X, train_y)\n",
        "predictions = svm_model_linear.predict(test_X)\n",
        "accuracy = accuracy_score(test_y, predictions)\n",
        "print(accuracy)"
      ],
      "execution_count": 0,
      "outputs": []
    }
  ]
}